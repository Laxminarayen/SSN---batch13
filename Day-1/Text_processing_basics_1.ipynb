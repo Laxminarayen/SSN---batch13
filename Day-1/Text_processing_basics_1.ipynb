{
 "cells": [
  {
   "cell_type": "markdown",
   "metadata": {},
   "source": [
    "# String manipulation\n",
    "Type casting or Type conversion\n",
    "\n",
    "\n",
    "Char in python it just string"
   ]
  },
  {
   "cell_type": "code",
   "execution_count": 1,
   "metadata": {},
   "outputs": [],
   "source": [
    "# Strings in python \n",
    "\"\"\"\n",
    "1. Strings can be accessed using indices \n",
    "2. Strings are immutable\n",
    "\"\"\"\n",
    "a = 'SSN'"
   ]
  },
  {
   "cell_type": "code",
   "execution_count": 2,
   "metadata": {},
   "outputs": [
    {
     "data": {
      "text/plain": [
       "str"
      ]
     },
     "execution_count": 2,
     "metadata": {},
     "output_type": "execute_result"
    }
   ],
   "source": [
    "type(a)"
   ]
  },
  {
   "cell_type": "code",
   "execution_count": 3,
   "metadata": {},
   "outputs": [
    {
     "data": {
      "text/plain": [
       "'S'"
      ]
     },
     "execution_count": 3,
     "metadata": {},
     "output_type": "execute_result"
    }
   ],
   "source": [
    "a[1]"
   ]
  },
  {
   "cell_type": "code",
   "execution_count": 4,
   "metadata": {},
   "outputs": [
    {
     "ename": "TypeError",
     "evalue": "'str' object does not support item assignment",
     "output_type": "error",
     "traceback": [
      "\u001b[1;31m---------------------------------------------------------------------------\u001b[0m",
      "\u001b[1;31mTypeError\u001b[0m                                 Traceback (most recent call last)",
      "\u001b[1;32m<ipython-input-4-9322a1e10536>\u001b[0m in \u001b[0;36m<module>\u001b[1;34m()\u001b[0m\n\u001b[1;32m----> 1\u001b[1;33m \u001b[0ma\u001b[0m\u001b[1;33m[\u001b[0m\u001b[1;36m1\u001b[0m\u001b[1;33m]\u001b[0m \u001b[1;33m=\u001b[0m \u001b[1;34m\"H\"\u001b[0m\u001b[1;33m\u001b[0m\u001b[0m\n\u001b[0m",
      "\u001b[1;31mTypeError\u001b[0m: 'str' object does not support item assignment"
     ]
    }
   ],
   "source": [
    "a[1] = \"H\""
   ]
  },
  {
   "cell_type": "markdown",
   "metadata": {},
   "source": [
    "## Index slicing"
   ]
  },
  {
   "cell_type": "code",
   "execution_count": 5,
   "metadata": {},
   "outputs": [
    {
     "name": "stdout",
     "output_type": "stream",
     "text": [
      "SS\n"
     ]
    }
   ],
   "source": [
    "print(a[:2])"
   ]
  },
  {
   "cell_type": "code",
   "execution_count": 6,
   "metadata": {},
   "outputs": [
    {
     "name": "stdout",
     "output_type": "stream",
     "text": [
      "SN\n"
     ]
    }
   ],
   "source": [
    "print(a[-2:])"
   ]
  },
  {
   "cell_type": "markdown",
   "metadata": {},
   "source": [
    "## default input type is string in python"
   ]
  },
  {
   "cell_type": "code",
   "execution_count": 7,
   "metadata": {},
   "outputs": [
    {
     "name": "stdout",
     "output_type": "stream",
     "text": [
      "Enter a input:34\n"
     ]
    }
   ],
   "source": [
    "var = input(\"Enter a input:\")"
   ]
  },
  {
   "cell_type": "code",
   "execution_count": 8,
   "metadata": {},
   "outputs": [
    {
     "data": {
      "text/plain": [
       "str"
      ]
     },
     "execution_count": 8,
     "metadata": {},
     "output_type": "execute_result"
    }
   ],
   "source": [
    "type(var)"
   ]
  },
  {
   "cell_type": "code",
   "execution_count": 12,
   "metadata": {},
   "outputs": [],
   "source": [
    "a = \"batch13ssn\""
   ]
  },
  {
   "cell_type": "code",
   "execution_count": 13,
   "metadata": {},
   "outputs": [
    {
     "data": {
      "text/plain": [
       "'Batch13ssn'"
      ]
     },
     "execution_count": 13,
     "metadata": {},
     "output_type": "execute_result"
    }
   ],
   "source": [
    "a.capitalize() #Use tab to auto complete and Shit+Tab to access the docstring and parameter details "
   ]
  },
  {
   "cell_type": "code",
   "execution_count": 15,
   "metadata": {},
   "outputs": [],
   "source": [
    "a = \"batch13ssn\"\n",
    "a = a.upper()"
   ]
  },
  {
   "cell_type": "code",
   "execution_count": 16,
   "metadata": {},
   "outputs": [
    {
     "data": {
      "text/plain": [
       "'BATCH13SSN'"
      ]
     },
     "execution_count": 16,
     "metadata": {},
     "output_type": "execute_result"
    }
   ],
   "source": [
    "a"
   ]
  },
  {
   "cell_type": "code",
   "execution_count": 17,
   "metadata": {},
   "outputs": [
    {
     "data": {
      "text/plain": [
       "'batch13ssn'"
      ]
     },
     "execution_count": 17,
     "metadata": {},
     "output_type": "execute_result"
    }
   ],
   "source": [
    "a.lower()"
   ]
  },
  {
   "cell_type": "markdown",
   "metadata": {},
   "source": [
    "## UTF - Unicode Transformation Format and 8 'means' - 8-bit blocks to represent a character"
   ]
  },
  {
   "cell_type": "code",
   "execution_count": 19,
   "metadata": {},
   "outputs": [
    {
     "data": {
      "text/plain": [
       "{'646': 'ascii',\n",
       " 'ansi_x3.4_1968': 'ascii',\n",
       " 'ansi_x3_4_1968': 'ascii',\n",
       " 'ansi_x3.4_1986': 'ascii',\n",
       " 'cp367': 'ascii',\n",
       " 'csascii': 'ascii',\n",
       " 'ibm367': 'ascii',\n",
       " 'iso646_us': 'ascii',\n",
       " 'iso_646.irv_1991': 'ascii',\n",
       " 'iso_ir_6': 'ascii',\n",
       " 'us': 'ascii',\n",
       " 'us_ascii': 'ascii',\n",
       " 'base64': 'base64_codec',\n",
       " 'base_64': 'base64_codec',\n",
       " 'big5_tw': 'big5',\n",
       " 'csbig5': 'big5',\n",
       " 'big5_hkscs': 'big5hkscs',\n",
       " 'hkscs': 'big5hkscs',\n",
       " 'bz2': 'bz2_codec',\n",
       " '037': 'cp037',\n",
       " 'csibm037': 'cp037',\n",
       " 'ebcdic_cp_ca': 'cp037',\n",
       " 'ebcdic_cp_nl': 'cp037',\n",
       " 'ebcdic_cp_us': 'cp037',\n",
       " 'ebcdic_cp_wt': 'cp037',\n",
       " 'ibm037': 'cp037',\n",
       " 'ibm039': 'cp037',\n",
       " '1026': 'cp1026',\n",
       " 'csibm1026': 'cp1026',\n",
       " 'ibm1026': 'cp1026',\n",
       " '1125': 'cp1125',\n",
       " 'ibm1125': 'cp1125',\n",
       " 'cp866u': 'cp1125',\n",
       " 'ruscii': 'cp1125',\n",
       " '1140': 'cp1140',\n",
       " 'ibm1140': 'cp1140',\n",
       " '1250': 'cp1250',\n",
       " 'windows_1250': 'cp1250',\n",
       " '1251': 'cp1251',\n",
       " 'windows_1251': 'cp1251',\n",
       " '1252': 'cp1252',\n",
       " 'windows_1252': 'cp1252',\n",
       " '1253': 'cp1253',\n",
       " 'windows_1253': 'cp1253',\n",
       " '1254': 'cp1254',\n",
       " 'windows_1254': 'cp1254',\n",
       " '1255': 'cp1255',\n",
       " 'windows_1255': 'cp1255',\n",
       " '1256': 'cp1256',\n",
       " 'windows_1256': 'cp1256',\n",
       " '1257': 'cp1257',\n",
       " 'windows_1257': 'cp1257',\n",
       " '1258': 'cp1258',\n",
       " 'windows_1258': 'cp1258',\n",
       " '273': 'cp273',\n",
       " 'ibm273': 'cp273',\n",
       " 'csibm273': 'cp273',\n",
       " '424': 'cp424',\n",
       " 'csibm424': 'cp424',\n",
       " 'ebcdic_cp_he': 'cp424',\n",
       " 'ibm424': 'cp424',\n",
       " '437': 'cp437',\n",
       " 'cspc8codepage437': 'cp437',\n",
       " 'ibm437': 'cp437',\n",
       " '500': 'cp500',\n",
       " 'csibm500': 'cp500',\n",
       " 'ebcdic_cp_be': 'cp500',\n",
       " 'ebcdic_cp_ch': 'cp500',\n",
       " 'ibm500': 'cp500',\n",
       " '775': 'cp775',\n",
       " 'cspc775baltic': 'cp775',\n",
       " 'ibm775': 'cp775',\n",
       " '850': 'cp850',\n",
       " 'cspc850multilingual': 'cp850',\n",
       " 'ibm850': 'cp850',\n",
       " '852': 'cp852',\n",
       " 'cspcp852': 'cp852',\n",
       " 'ibm852': 'cp852',\n",
       " '855': 'cp855',\n",
       " 'csibm855': 'cp855',\n",
       " 'ibm855': 'cp855',\n",
       " '857': 'cp857',\n",
       " 'csibm857': 'cp857',\n",
       " 'ibm857': 'cp857',\n",
       " '858': 'cp858',\n",
       " 'csibm858': 'cp858',\n",
       " 'ibm858': 'cp858',\n",
       " '860': 'cp860',\n",
       " 'csibm860': 'cp860',\n",
       " 'ibm860': 'cp860',\n",
       " '861': 'cp861',\n",
       " 'cp_is': 'cp861',\n",
       " 'csibm861': 'cp861',\n",
       " 'ibm861': 'cp861',\n",
       " '862': 'cp862',\n",
       " 'cspc862latinhebrew': 'cp862',\n",
       " 'ibm862': 'cp862',\n",
       " '863': 'cp863',\n",
       " 'csibm863': 'cp863',\n",
       " 'ibm863': 'cp863',\n",
       " '864': 'cp864',\n",
       " 'csibm864': 'cp864',\n",
       " 'ibm864': 'cp864',\n",
       " '865': 'cp865',\n",
       " 'csibm865': 'cp865',\n",
       " 'ibm865': 'cp865',\n",
       " '866': 'cp866',\n",
       " 'csibm866': 'cp866',\n",
       " 'ibm866': 'cp866',\n",
       " '869': 'cp869',\n",
       " 'cp_gr': 'cp869',\n",
       " 'csibm869': 'cp869',\n",
       " 'ibm869': 'cp869',\n",
       " '932': 'cp932',\n",
       " 'ms932': 'cp932',\n",
       " 'mskanji': 'cp932',\n",
       " 'ms_kanji': 'cp932',\n",
       " '949': 'cp949',\n",
       " 'ms949': 'cp949',\n",
       " 'uhc': 'cp949',\n",
       " '950': 'cp950',\n",
       " 'ms950': 'cp950',\n",
       " 'jisx0213': 'euc_jis_2004',\n",
       " 'eucjis2004': 'euc_jis_2004',\n",
       " 'euc_jis2004': 'euc_jis_2004',\n",
       " 'eucjisx0213': 'euc_jisx0213',\n",
       " 'eucjp': 'euc_jp',\n",
       " 'ujis': 'euc_jp',\n",
       " 'u_jis': 'euc_jp',\n",
       " 'euckr': 'euc_kr',\n",
       " 'korean': 'euc_kr',\n",
       " 'ksc5601': 'euc_kr',\n",
       " 'ks_c_5601': 'euc_kr',\n",
       " 'ks_c_5601_1987': 'euc_kr',\n",
       " 'ksx1001': 'euc_kr',\n",
       " 'ks_x_1001': 'euc_kr',\n",
       " 'gb18030_2000': 'gb18030',\n",
       " 'chinese': 'gb2312',\n",
       " 'csiso58gb231280': 'gb2312',\n",
       " 'euc_cn': 'gb2312',\n",
       " 'euccn': 'gb2312',\n",
       " 'eucgb2312_cn': 'gb2312',\n",
       " 'gb2312_1980': 'gb2312',\n",
       " 'gb2312_80': 'gb2312',\n",
       " 'iso_ir_58': 'gb2312',\n",
       " '936': 'gbk',\n",
       " 'cp936': 'gbk',\n",
       " 'ms936': 'gbk',\n",
       " 'hex': 'hex_codec',\n",
       " 'roman8': 'hp_roman8',\n",
       " 'r8': 'hp_roman8',\n",
       " 'csHPRoman8': 'hp_roman8',\n",
       " 'hzgb': 'hz',\n",
       " 'hz_gb': 'hz',\n",
       " 'hz_gb_2312': 'hz',\n",
       " 'csiso2022jp': 'iso2022_jp',\n",
       " 'iso2022jp': 'iso2022_jp',\n",
       " 'iso_2022_jp': 'iso2022_jp',\n",
       " 'iso2022jp_1': 'iso2022_jp_1',\n",
       " 'iso_2022_jp_1': 'iso2022_jp_1',\n",
       " 'iso2022jp_2': 'iso2022_jp_2',\n",
       " 'iso_2022_jp_2': 'iso2022_jp_2',\n",
       " 'iso_2022_jp_2004': 'iso2022_jp_2004',\n",
       " 'iso2022jp_2004': 'iso2022_jp_2004',\n",
       " 'iso2022jp_3': 'iso2022_jp_3',\n",
       " 'iso_2022_jp_3': 'iso2022_jp_3',\n",
       " 'iso2022jp_ext': 'iso2022_jp_ext',\n",
       " 'iso_2022_jp_ext': 'iso2022_jp_ext',\n",
       " 'csiso2022kr': 'iso2022_kr',\n",
       " 'iso2022kr': 'iso2022_kr',\n",
       " 'iso_2022_kr': 'iso2022_kr',\n",
       " 'csisolatin6': 'iso8859_10',\n",
       " 'iso_8859_10': 'iso8859_10',\n",
       " 'iso_8859_10_1992': 'iso8859_10',\n",
       " 'iso_ir_157': 'iso8859_10',\n",
       " 'l6': 'iso8859_10',\n",
       " 'latin6': 'iso8859_10',\n",
       " 'thai': 'iso8859_11',\n",
       " 'iso_8859_11': 'iso8859_11',\n",
       " 'iso_8859_11_2001': 'iso8859_11',\n",
       " 'iso_8859_13': 'iso8859_13',\n",
       " 'l7': 'iso8859_13',\n",
       " 'latin7': 'iso8859_13',\n",
       " 'iso_8859_14': 'iso8859_14',\n",
       " 'iso_8859_14_1998': 'iso8859_14',\n",
       " 'iso_celtic': 'iso8859_14',\n",
       " 'iso_ir_199': 'iso8859_14',\n",
       " 'l8': 'iso8859_14',\n",
       " 'latin8': 'iso8859_14',\n",
       " 'iso_8859_15': 'iso8859_15',\n",
       " 'l9': 'iso8859_15',\n",
       " 'latin9': 'iso8859_15',\n",
       " 'iso_8859_16': 'iso8859_16',\n",
       " 'iso_8859_16_2001': 'iso8859_16',\n",
       " 'iso_ir_226': 'iso8859_16',\n",
       " 'l10': 'iso8859_16',\n",
       " 'latin10': 'iso8859_16',\n",
       " 'csisolatin2': 'iso8859_2',\n",
       " 'iso_8859_2': 'iso8859_2',\n",
       " 'iso_8859_2_1987': 'iso8859_2',\n",
       " 'iso_ir_101': 'iso8859_2',\n",
       " 'l2': 'iso8859_2',\n",
       " 'latin2': 'iso8859_2',\n",
       " 'csisolatin3': 'iso8859_3',\n",
       " 'iso_8859_3': 'iso8859_3',\n",
       " 'iso_8859_3_1988': 'iso8859_3',\n",
       " 'iso_ir_109': 'iso8859_3',\n",
       " 'l3': 'iso8859_3',\n",
       " 'latin3': 'iso8859_3',\n",
       " 'csisolatin4': 'iso8859_4',\n",
       " 'iso_8859_4': 'iso8859_4',\n",
       " 'iso_8859_4_1988': 'iso8859_4',\n",
       " 'iso_ir_110': 'iso8859_4',\n",
       " 'l4': 'iso8859_4',\n",
       " 'latin4': 'iso8859_4',\n",
       " 'csisolatincyrillic': 'iso8859_5',\n",
       " 'cyrillic': 'iso8859_5',\n",
       " 'iso_8859_5': 'iso8859_5',\n",
       " 'iso_8859_5_1988': 'iso8859_5',\n",
       " 'iso_ir_144': 'iso8859_5',\n",
       " 'arabic': 'iso8859_6',\n",
       " 'asmo_708': 'iso8859_6',\n",
       " 'csisolatinarabic': 'iso8859_6',\n",
       " 'ecma_114': 'iso8859_6',\n",
       " 'iso_8859_6': 'iso8859_6',\n",
       " 'iso_8859_6_1987': 'iso8859_6',\n",
       " 'iso_ir_127': 'iso8859_6',\n",
       " 'csisolatingreek': 'iso8859_7',\n",
       " 'ecma_118': 'iso8859_7',\n",
       " 'elot_928': 'iso8859_7',\n",
       " 'greek': 'iso8859_7',\n",
       " 'greek8': 'iso8859_7',\n",
       " 'iso_8859_7': 'iso8859_7',\n",
       " 'iso_8859_7_1987': 'iso8859_7',\n",
       " 'iso_ir_126': 'iso8859_7',\n",
       " 'csisolatinhebrew': 'iso8859_8',\n",
       " 'hebrew': 'iso8859_8',\n",
       " 'iso_8859_8': 'iso8859_8',\n",
       " 'iso_8859_8_1988': 'iso8859_8',\n",
       " 'iso_ir_138': 'iso8859_8',\n",
       " 'csisolatin5': 'iso8859_9',\n",
       " 'iso_8859_9': 'iso8859_9',\n",
       " 'iso_8859_9_1989': 'iso8859_9',\n",
       " 'iso_ir_148': 'iso8859_9',\n",
       " 'l5': 'iso8859_9',\n",
       " 'latin5': 'iso8859_9',\n",
       " 'cp1361': 'johab',\n",
       " 'ms1361': 'johab',\n",
       " 'cskoi8r': 'koi8_r',\n",
       " 'kz_1048': 'kz1048',\n",
       " 'rk1048': 'kz1048',\n",
       " 'strk1048_2002': 'kz1048',\n",
       " '8859': 'latin_1',\n",
       " 'cp819': 'latin_1',\n",
       " 'csisolatin1': 'latin_1',\n",
       " 'ibm819': 'latin_1',\n",
       " 'iso8859': 'latin_1',\n",
       " 'iso8859_1': 'latin_1',\n",
       " 'iso_8859_1': 'latin_1',\n",
       " 'iso_8859_1_1987': 'latin_1',\n",
       " 'iso_ir_100': 'latin_1',\n",
       " 'l1': 'latin_1',\n",
       " 'latin': 'latin_1',\n",
       " 'latin1': 'latin_1',\n",
       " 'maccyrillic': 'mac_cyrillic',\n",
       " 'macgreek': 'mac_greek',\n",
       " 'maciceland': 'mac_iceland',\n",
       " 'maccentraleurope': 'mac_latin2',\n",
       " 'maclatin2': 'mac_latin2',\n",
       " 'macintosh': 'mac_roman',\n",
       " 'macroman': 'mac_roman',\n",
       " 'macturkish': 'mac_turkish',\n",
       " 'ansi': 'mbcs',\n",
       " 'dbcs': 'mbcs',\n",
       " 'csptcp154': 'ptcp154',\n",
       " 'pt154': 'ptcp154',\n",
       " 'cp154': 'ptcp154',\n",
       " 'cyrillic_asian': 'ptcp154',\n",
       " 'quopri': 'quopri_codec',\n",
       " 'quoted_printable': 'quopri_codec',\n",
       " 'quotedprintable': 'quopri_codec',\n",
       " 'rot13': 'rot_13',\n",
       " 'csshiftjis': 'shift_jis',\n",
       " 'shiftjis': 'shift_jis',\n",
       " 'sjis': 'shift_jis',\n",
       " 's_jis': 'shift_jis',\n",
       " 'shiftjis2004': 'shift_jis_2004',\n",
       " 'sjis_2004': 'shift_jis_2004',\n",
       " 's_jis_2004': 'shift_jis_2004',\n",
       " 'shiftjisx0213': 'shift_jisx0213',\n",
       " 'sjisx0213': 'shift_jisx0213',\n",
       " 's_jisx0213': 'shift_jisx0213',\n",
       " 'tis260': 'tactis',\n",
       " 'tis620': 'tis_620',\n",
       " 'tis_620_0': 'tis_620',\n",
       " 'tis_620_2529_0': 'tis_620',\n",
       " 'tis_620_2529_1': 'tis_620',\n",
       " 'iso_ir_166': 'tis_620',\n",
       " 'u16': 'utf_16',\n",
       " 'utf16': 'utf_16',\n",
       " 'unicodebigunmarked': 'utf_16_be',\n",
       " 'utf_16be': 'utf_16_be',\n",
       " 'unicodelittleunmarked': 'utf_16_le',\n",
       " 'utf_16le': 'utf_16_le',\n",
       " 'u32': 'utf_32',\n",
       " 'utf32': 'utf_32',\n",
       " 'utf_32be': 'utf_32_be',\n",
       " 'utf_32le': 'utf_32_le',\n",
       " 'u7': 'utf_7',\n",
       " 'utf7': 'utf_7',\n",
       " 'unicode_1_1_utf_7': 'utf_7',\n",
       " 'u8': 'utf_8',\n",
       " 'utf': 'utf_8',\n",
       " 'utf8': 'utf_8',\n",
       " 'utf8_ucs2': 'utf_8',\n",
       " 'utf8_ucs4': 'utf_8',\n",
       " 'uu': 'uu_codec',\n",
       " 'zip': 'zlib_codec',\n",
       " 'zlib': 'zlib_codec',\n",
       " 'x_mac_japanese': 'shift_jis',\n",
       " 'x_mac_korean': 'euc_kr',\n",
       " 'x_mac_simp_chinese': 'gb2312',\n",
       " 'x_mac_trad_chinese': 'big5'}"
      ]
     },
     "execution_count": 19,
     "metadata": {},
     "output_type": "execute_result"
    }
   ],
   "source": [
    "#encodings in python \n",
    "from encodings.aliases import aliases\n",
    "aliases"
   ]
  },
  {
   "cell_type": "code",
   "execution_count": 20,
   "metadata": {},
   "outputs": [],
   "source": [
    "review = \"\"\"SSN is one of the top institutions in \n",
    "chennai nad is the best\"\"\""
   ]
  },
  {
   "cell_type": "code",
   "execution_count": 21,
   "metadata": {},
   "outputs": [
    {
     "data": {
      "text/plain": [
       "b'\\xff\\xfeS\\x00S\\x00N\\x00 \\x00i\\x00s\\x00 \\x00o\\x00n\\x00e\\x00 \\x00o\\x00f\\x00 \\x00t\\x00h\\x00e\\x00 \\x00t\\x00o\\x00p\\x00 \\x00i\\x00n\\x00s\\x00t\\x00i\\x00t\\x00u\\x00t\\x00i\\x00o\\x00n\\x00s\\x00 \\x00i\\x00n\\x00 \\x00\\n\\x00c\\x00h\\x00e\\x00n\\x00n\\x00a\\x00i\\x00 \\x00n\\x00a\\x00d\\x00 \\x00i\\x00s\\x00 \\x00t\\x00h\\x00e\\x00 \\x00b\\x00e\\x00s\\x00t\\x00'"
      ]
     },
     "execution_count": 21,
     "metadata": {},
     "output_type": "execute_result"
    }
   ],
   "source": [
    "review.encode(\"utf-16\")"
   ]
  },
  {
   "cell_type": "code",
   "execution_count": 23,
   "metadata": {},
   "outputs": [
    {
     "data": {
      "text/plain": [
       "'SSN is one of the top institutions in chennai nad is the best'"
      ]
     },
     "execution_count": 23,
     "metadata": {},
     "output_type": "execute_result"
    }
   ],
   "source": [
    "\" \".join(review.split())"
   ]
  },
  {
   "cell_type": "code",
   "execution_count": 24,
   "metadata": {},
   "outputs": [
    {
     "data": {
      "text/plain": [
       "'SSN_is_one_of_the_top_institutions_in_chennai_nad_is_the_best'"
      ]
     },
     "execution_count": 24,
     "metadata": {},
     "output_type": "execute_result"
    }
   ],
   "source": [
    "\"_\".join(review.split())"
   ]
  },
  {
   "cell_type": "code",
   "execution_count": 25,
   "metadata": {},
   "outputs": [
    {
     "data": {
      "text/plain": [
       "'SSN.is.one.of.the.top.institutions.in.chennai.nad.is.the.best'"
      ]
     },
     "execution_count": 25,
     "metadata": {},
     "output_type": "execute_result"
    }
   ],
   "source": [
    "\".\".join(review.split())"
   ]
  },
  {
   "cell_type": "code",
   "execution_count": 26,
   "metadata": {},
   "outputs": [],
   "source": [
    "import re"
   ]
  },
  {
   "cell_type": "code",
   "execution_count": 27,
   "metadata": {},
   "outputs": [],
   "source": [
    "s1 = 'Python is an excellent language'\n",
    "s2 = 'I love the Pyhton languagge. I also use Python to build applications!'"
   ]
  },
  {
   "cell_type": "code",
   "execution_count": 31,
   "metadata": {},
   "outputs": [
    {
     "name": "stdout",
     "output_type": "stream",
     "text": [
      "<re.Match object; span=(0, 6), match='Python'>\n"
     ]
    }
   ],
   "source": [
    "pattern = 'python'\n",
    "print(re.match(pattern,s1,re.IGNORECASE))"
   ]
  },
  {
   "cell_type": "code",
   "execution_count": 32,
   "metadata": {},
   "outputs": [
    {
     "name": "stdout",
     "output_type": "stream",
     "text": [
      "None\n"
     ]
    }
   ],
   "source": [
    "pattern = 'python'\n",
    "print(re.match(pattern,s2,re.IGNORECASE))"
   ]
  },
  {
   "cell_type": "markdown",
   "metadata": {},
   "source": [
    "## RE.Search"
   ]
  },
  {
   "cell_type": "code",
   "execution_count": 34,
   "metadata": {},
   "outputs": [
    {
     "name": "stdout",
     "output_type": "stream",
     "text": [
      "<re.Match object; span=(40, 46), match='Python'>\n"
     ]
    },
    {
     "data": {
      "text/plain": [
       "'Python'"
      ]
     },
     "execution_count": 34,
     "metadata": {},
     "output_type": "execute_result"
    }
   ],
   "source": [
    "print(re.search(pattern,s2,re.IGNORECASE))\n",
    "m = re.search(pattern,s2,re.IGNORECASE)\n",
    "m.group(0)"
   ]
  },
  {
   "cell_type": "code",
   "execution_count": 35,
   "metadata": {},
   "outputs": [
    {
     "data": {
      "text/plain": [
       "40"
      ]
     },
     "execution_count": 35,
     "metadata": {},
     "output_type": "execute_result"
    }
   ],
   "source": [
    "m.start()"
   ]
  },
  {
   "cell_type": "code",
   "execution_count": 37,
   "metadata": {},
   "outputs": [],
   "source": [
    "import re \n",
    "phone_number_ex = re.compile(r'\\d\\d\\d\\d\\d-\\d\\d\\d\\d\\d')\n",
    "mobile_num = phone_number_ex.search('The number of the caller is 98852-66783')"
   ]
  },
  {
   "cell_type": "code",
   "execution_count": 40,
   "metadata": {},
   "outputs": [
    {
     "data": {
      "text/plain": [
       "'98852-66783'"
      ]
     },
     "execution_count": 40,
     "metadata": {},
     "output_type": "execute_result"
    }
   ],
   "source": [
    "mobile_num.group()"
   ]
  },
  {
   "cell_type": "markdown",
   "metadata": {},
   "source": [
    "^ - matches at the beginning\n",
    "\n",
    "$ - matches at the end of the line\n",
    "\n",
    "\\d - match digits \n",
    "\n",
    "\\D - match non-digits \n",
    "\n",
    "\\s - match whitespaces\n",
    "\n",
    "\\A - match at the beginning\n",
    "\n",
    "\\Z - match at the end of the string"
   ]
  },
  {
   "cell_type": "markdown",
   "metadata": {},
   "source": [
    "## Findall"
   ]
  },
  {
   "cell_type": "code",
   "execution_count": 45,
   "metadata": {},
   "outputs": [
    {
     "data": {
      "text/plain": [
       "['Python', 'Python', 'python', 'python']"
      ]
     },
     "execution_count": 45,
     "metadata": {},
     "output_type": "execute_result"
    }
   ],
   "source": [
    "s2 = 'I love the Pyhton languagge. I also use Python to build applications, Python and python and more python'\n",
    "re.findall(pattern,s2,re.I)"
   ]
  },
  {
   "cell_type": "code",
   "execution_count": 44,
   "metadata": {},
   "outputs": [
    {
     "data": {
      "text/plain": [
       "['98852-66783', '95534-00594']"
      ]
     },
     "execution_count": 44,
     "metadata": {},
     "output_type": "execute_result"
    }
   ],
   "source": [
    "import re \n",
    "phone_number_ex = re.compile(r'\\d\\d\\d\\d\\d-\\d\\d\\d\\d\\d')\n",
    "phone_number_ex.findall('The number of the caller is 98852-66783 and also her number is 95534-00594')"
   ]
  },
  {
   "cell_type": "markdown",
   "metadata": {},
   "source": [
    "## sub"
   ]
  },
  {
   "cell_type": "code",
   "execution_count": 46,
   "metadata": {},
   "outputs": [
    {
     "data": {
      "text/plain": [
       "'python'"
      ]
     },
     "execution_count": 46,
     "metadata": {},
     "output_type": "execute_result"
    }
   ],
   "source": [
    "pattern"
   ]
  },
  {
   "cell_type": "code",
   "execution_count": 47,
   "metadata": {},
   "outputs": [
    {
     "data": {
      "text/plain": [
       "'I love the Pyhton languagge. I also use Python to build applications, Python and python and more python'"
      ]
     },
     "execution_count": 47,
     "metadata": {},
     "output_type": "execute_result"
    }
   ],
   "source": [
    "s2"
   ]
  },
  {
   "cell_type": "code",
   "execution_count": 48,
   "metadata": {},
   "outputs": [
    {
     "data": {
      "text/plain": [
       "'I love the Pyhton languagge. I also use Java to build applications, Java and Java and more Java'"
      ]
     },
     "execution_count": 48,
     "metadata": {},
     "output_type": "execute_result"
    }
   ],
   "source": [
    "re.sub(pattern,'Java',s2,flags = re.I)"
   ]
  },
  {
   "cell_type": "code",
   "execution_count": 49,
   "metadata": {},
   "outputs": [
    {
     "data": {
      "text/plain": [
       "('I love the Pyhton languagge. I also use Java to build applications, Java and Java and more Java',\n",
       " 4)"
      ]
     },
     "execution_count": 49,
     "metadata": {},
     "output_type": "execute_result"
    }
   ],
   "source": [
    "re.subn(pattern,'Java',s2,flags = re.I)"
   ]
  },
  {
   "cell_type": "markdown",
   "metadata": {},
   "source": [
    "## NLTK - Natural Language processing Tool Kit"
   ]
  },
  {
   "cell_type": "code",
   "execution_count": null,
   "metadata": {},
   "outputs": [],
   "source": [
    "!pip install nltk\n",
    "!conda install -c nltk --y\n",
    "import nltk"
   ]
  },
  {
   "cell_type": "code",
   "execution_count": 71,
   "metadata": {
    "scrolled": true
   },
   "outputs": [
    {
     "name": "stdout",
     "output_type": "stream",
     "text": [
      " Volume in drive C is Windows\n",
      " Volume Serial Number is DCB7-12F4\n",
      "\n",
      " Directory of C:\\Users\\AADHI\\Desktop\\SSN - Batch 13\n",
      "\n",
      "27-04-2020  12:31    <DIR>          .\n",
      "27-04-2020  12:31    <DIR>          ..\n",
      "27-04-2020  10:59    <DIR>          .ipynb_checkpoints\n",
      "27-04-2020  12:31            30,036 Untitled.ipynb\n",
      "               1 File(s)         30,036 bytes\n",
      "               3 Dir(s)  310,393,864,192 bytes free\n"
     ]
    }
   ],
   "source": [
    "!dir"
   ]
  },
  {
   "cell_type": "code",
   "execution_count": 53,
   "metadata": {},
   "outputs": [
    {
     "name": "stdout",
     "output_type": "stream",
     "text": [
      "desktop-i7ql3e5\\aadhi\n"
     ]
    }
   ],
   "source": [
    "!whoami"
   ]
  },
  {
   "cell_type": "code",
   "execution_count": 63,
   "metadata": {},
   "outputs": [],
   "source": [
    "sample_text = (\"I am prawin raja, did my Me computer science and then I came back to CS. \"\n",
    "              \"I joined ssn pg diploma batch. \"\n",
    "              \"I am one of the best students of the batch. \"\n",
    "              \"I really like the batch sessions going on. \")"
   ]
  },
  {
   "cell_type": "code",
   "execution_count": 64,
   "metadata": {},
   "outputs": [
    {
     "data": {
      "text/plain": [
       "'I am prawin raja, did my Me computer science and then I came back to CS. I joined ssn pg diploma batch. I am one of the best students of the batch. I really like the batch sessions going on. '"
      ]
     },
     "execution_count": 64,
     "metadata": {},
     "output_type": "execute_result"
    }
   ],
   "source": [
    "sample_text"
   ]
  },
  {
   "cell_type": "code",
   "execution_count": 65,
   "metadata": {},
   "outputs": [
    {
     "name": "stdout",
     "output_type": "stream",
     "text": [
      "[nltk_data] Downloading package punkt to\n",
      "[nltk_data]     C:\\Users\\AADHI\\AppData\\Roaming\\nltk_data...\n",
      "[nltk_data]   Package punkt is already up-to-date!\n",
      "[nltk_data] Downloading package wordnet to\n",
      "[nltk_data]     C:\\Users\\AADHI\\AppData\\Roaming\\nltk_data...\n",
      "[nltk_data]   Package wordnet is already up-to-date!\n"
     ]
    },
    {
     "data": {
      "text/plain": [
       "True"
      ]
     },
     "execution_count": 65,
     "metadata": {},
     "output_type": "execute_result"
    }
   ],
   "source": [
    "import nltk\n",
    "nltk.download('punkt')\n",
    "nltk.download('wordnet')"
   ]
  },
  {
   "cell_type": "markdown",
   "metadata": {},
   "source": [
    "Sentence + tokenization  = Splitting the reviews into sentences"
   ]
  },
  {
   "cell_type": "code",
   "execution_count": 67,
   "metadata": {},
   "outputs": [],
   "source": [
    "lst_sentences = nltk.sent_tokenize(sample_text)"
   ]
  },
  {
   "cell_type": "code",
   "execution_count": 68,
   "metadata": {},
   "outputs": [
    {
     "data": {
      "text/plain": [
       "'I joined ssn pg diploma batch.'"
      ]
     },
     "execution_count": 68,
     "metadata": {},
     "output_type": "execute_result"
    }
   ],
   "source": [
    "lst_sentences[1]"
   ]
  },
  {
   "cell_type": "markdown",
   "metadata": {},
   "source": [
    "Word + Tokenization = Splits the sentences or the review into words"
   ]
  },
  {
   "cell_type": "code",
   "execution_count": 70,
   "metadata": {},
   "outputs": [
    {
     "name": "stdout",
     "output_type": "stream",
     "text": [
      "['I', 'am', 'prawin', 'raja', ',', 'did', 'my', 'Me', 'computer', 'science', 'and', 'then', 'I', 'came', 'back', 'to', 'CS', '.', 'I', 'joined', 'ssn', 'pg', 'diploma', 'batch', '.', 'I', 'am', 'one', 'of', 'the', 'best', 'students', 'of', 'the', 'batch', '.', 'I', 'really', 'like', 'the', 'batch', 'sessions', 'going', 'on', '.']\n"
     ]
    }
   ],
   "source": [
    "print(nltk.word_tokenize(sample_text))"
   ]
  },
  {
   "cell_type": "code",
   "execution_count": 72,
   "metadata": {},
   "outputs": [
    {
     "name": "stdout",
     "output_type": "stream",
     "text": [
      "['I', 'am', 'prawin', 'raja', ',', 'did', 'my', 'Me', 'computer', 'science', 'and', 'then', 'I', 'came', 'back', 'to', 'CS.', 'I', 'joined', 'ssn', 'pg', 'diploma', 'batch.', 'I', 'am', 'one', 'of', 'the', 'best', 'students', 'of', 'the', 'batch.', 'I', 'really', 'like', 'the', 'batch', 'sessions', 'going', 'on.']\n"
     ]
    }
   ],
   "source": [
    "tt = nltk.toktok.ToktokTokenizer()\n",
    "print(tt.tokenize(sample_text))"
   ]
  },
  {
   "cell_type": "code",
   "execution_count": null,
   "metadata": {},
   "outputs": [],
   "source": []
  }
 ],
 "metadata": {
  "kernelspec": {
   "display_name": "Python 3",
   "language": "python",
   "name": "python3"
  },
  "language_info": {
   "codemirror_mode": {
    "name": "ipython",
    "version": 3
   },
   "file_extension": ".py",
   "mimetype": "text/x-python",
   "name": "python",
   "nbconvert_exporter": "python",
   "pygments_lexer": "ipython3",
   "version": "3.7.0"
  }
 },
 "nbformat": 4,
 "nbformat_minor": 2
}
