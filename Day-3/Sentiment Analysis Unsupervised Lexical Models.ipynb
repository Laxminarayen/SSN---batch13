{
 "cells": [
  {
   "cell_type": "markdown",
   "metadata": {},
   "source": [
    "<a href=\"http://colab.research.google.com/github/dipanjanS/nlp_workshop_odsc19/blob/master/Module05%20-%20NLP%20Applications/Project03%20-%20Sentiment%20Analysis%20Unsupervised%20Lexical%20Models.ipynb\" target=\"_parent\"><img src=\"https://colab.research.google.com/assets/colab-badge.svg\" alt=\"Open In Colab\"/></a>"
   ]
  },
  {
   "cell_type": "markdown",
   "metadata": {},
   "source": [
    "# Unsupervised Sentiment Analysis with Lexicon Models\n",
    "\n",
    "We talked about unsupervised learning methods in the past, which refer to specific\n",
    "modeling methods that can be applied directly to data features without the presence of\n",
    "labeled data. One of the major challenges in any organization is getting labeled datasets\n",
    "due the lack of time as well as resources to do this tedious task. Unsupervised methods\n",
    "are very useful in this scenario and we look at some of these methods in this section.\n",
    "Even though we have labeled data, this section should give you a good idea of how\n",
    "lexicon based models work and you can apply them to your own datasets when you do\n",
    "not have labeled data.\n",
    "\n",
    "\n",
    "Unsupervised sentiment analysis models use well curated knowledgebases,\n",
    "ontologies, lexicons, and databases, which have detailed information pertaining to\n",
    "subjective words, phrases including sentiment, mood, polarity, objectivity, subjectivity,\n",
    "and so on. \n",
    "\n",
    "A lexicon model typically uses a lexicon, also known as a dictionary or\n",
    "vocabulary of words specifically aligned to sentiment analysis. These lexicons contain\n",
    "a list of words associated with positive and negative sentiment, polarity (magnitude of\n",
    "negative or positive score), parts of speech (POS) tags, subjectivity classifiers (strong,\n",
    "weak, neutral), mood, modality, and so on. \n",
    "\n",
    "You can use these lexicons and compute\n",
    "the sentiment of a text document by matching the presence of specific words from\n",
    "the lexicon and then looking at other factors like presence of negation parameters,\n",
    "surrounding words, overall context, phrases, and aggregate overall sentiment polarity\n",
    "scores to decide the final sentiment score. \n",
    "\n",
    "There are several popular lexicon models\n",
    "used for sentiment analysis. Some of them are as follows:\n",
    "\n",
    "- Bing Liu’s lexicon\n",
    "- MPQA subjectivity lexicon\n",
    "- Pattern lexicon\n",
    "- TextBlob lexicon\n",
    "- AFINN lexicon\n",
    "- SentiWordNet lexicon\n",
    "- VADER lexicon\n",
    "\n",
    "This is not an exhaustive list of lexicon models but these are definitely among the\n",
    "most popular ones available today. "
   ]
  },
  {
   "cell_type": "markdown",
   "metadata": {},
   "source": [
    "### TEXTBLOB Threshold : (-1 to +1) \n",
    "### AFINN Threshold: (-5 to +5) \n",
    "### VADER Threshold: (-4 to +4) "
   ]
  },
  {
   "cell_type": "markdown",
   "metadata": {
    "colab_type": "text",
    "id": "x0DjFMcgdVKt"
   },
   "source": [
    "# Install Dependencies"
   ]
  },
  {
   "cell_type": "code",
   "execution_count": 1,
   "metadata": {
    "colab": {
     "base_uri": "https://localhost:8080/",
     "height": 255
    },
    "colab_type": "code",
    "id": "qkT1MELHbfpN",
    "outputId": "fe37338f-de81-416a-97a0-4dc996c5efdb"
   },
   "outputs": [
    {
     "name": "stdout",
     "output_type": "stream",
     "text": [
      "Requirement already satisfied: textblob in c:\\users\\aadhi\\anaconda3\\lib\\site-packages (0.15.3)\n",
      "Requirement already satisfied: nltk>=3.1 in c:\\users\\aadhi\\anaconda3\\lib\\site-packages (from textblob) (3.3)\n",
      "Requirement already satisfied: six in c:\\users\\aadhi\\anaconda3\\lib\\site-packages (from nltk>=3.1->textblob) (1.11.0)\n"
     ]
    },
    {
     "name": "stderr",
     "output_type": "stream",
     "text": [
      "You are using pip version 10.0.1, however version 20.1b1 is available.\n",
      "You should consider upgrading via the 'python -m pip install --upgrade pip' command.\n"
     ]
    },
    {
     "name": "stdout",
     "output_type": "stream",
     "text": [
      "Requirement already satisfied: textsearch in c:\\users\\aadhi\\anaconda3\\lib\\site-packages (0.0.17)\n",
      "Requirement already satisfied: Unidecode in c:\\users\\aadhi\\anaconda3\\lib\\site-packages (from textsearch) (1.1.1)\n",
      "Requirement already satisfied: pyahocorasick in c:\\users\\aadhi\\anaconda3\\lib\\site-packages (from textsearch) (1.4.0)\n"
     ]
    },
    {
     "name": "stderr",
     "output_type": "stream",
     "text": [
      "You are using pip version 10.0.1, however version 20.1b1 is available.\n",
      "You should consider upgrading via the 'python -m pip install --upgrade pip' command.\n"
     ]
    },
    {
     "name": "stdout",
     "output_type": "stream",
     "text": [
      "Requirement already satisfied: contractions in c:\\users\\aadhi\\anaconda3\\lib\\site-packages (0.0.24)\n",
      "Requirement already satisfied: textsearch in c:\\users\\aadhi\\anaconda3\\lib\\site-packages (from contractions) (0.0.17)\n",
      "Requirement already satisfied: Unidecode in c:\\users\\aadhi\\anaconda3\\lib\\site-packages (from textsearch->contractions) (1.1.1)\n",
      "Requirement already satisfied: pyahocorasick in c:\\users\\aadhi\\anaconda3\\lib\\site-packages (from textsearch->contractions) (1.4.0)\n"
     ]
    },
    {
     "name": "stderr",
     "output_type": "stream",
     "text": [
      "You are using pip version 10.0.1, however version 20.1b1 is available.\n",
      "You should consider upgrading via the 'python -m pip install --upgrade pip' command.\n"
     ]
    },
    {
     "name": "stdout",
     "output_type": "stream",
     "text": [
      "Requirement already satisfied: afinn in c:\\users\\aadhi\\anaconda3\\lib\\site-packages (0.1)\n"
     ]
    },
    {
     "name": "stderr",
     "output_type": "stream",
     "text": [
      "You are using pip version 10.0.1, however version 20.1b1 is available.\n",
      "You should consider upgrading via the 'python -m pip install --upgrade pip' command.\n"
     ]
    },
    {
     "name": "stdout",
     "output_type": "stream",
     "text": [
      "[nltk_data] Downloading package punkt to\n",
      "[nltk_data]     C:\\Users\\AADHI\\AppData\\Roaming\\nltk_data...\n",
      "[nltk_data]   Package punkt is already up-to-date!\n",
      "[nltk_data] Downloading package stopwords to\n",
      "[nltk_data]     C:\\Users\\AADHI\\AppData\\Roaming\\nltk_data...\n",
      "[nltk_data]   Package stopwords is already up-to-date!\n",
      "[nltk_data] Downloading package vader_lexicon to\n",
      "[nltk_data]     C:\\Users\\AADHI\\AppData\\Roaming\\nltk_data...\n",
      "[nltk_data]   Package vader_lexicon is already up-to-date!\n",
      "[nltk_data] Downloading package opinion_lexicon to\n",
      "[nltk_data]     C:\\Users\\AADHI\\AppData\\Roaming\\nltk_data...\n",
      "[nltk_data]   Package opinion_lexicon is already up-to-date!\n"
     ]
    },
    {
     "data": {
      "text/plain": [
       "True"
      ]
     },
     "execution_count": 1,
     "metadata": {},
     "output_type": "execute_result"
    }
   ],
   "source": [
    "!pip install textblob\n",
    "!pip install textsearch\n",
    "!pip install contractions\n",
    "!pip install afinn\n",
    "import nltk\n",
    "nltk.download('punkt')\n",
    "nltk.download('stopwords')\n",
    "nltk.download('vader_lexicon')\n",
    "nltk.download('opinion_lexicon')"
   ]
  },
  {
   "cell_type": "code",
   "execution_count": 2,
   "metadata": {},
   "outputs": [
    {
     "name": "stderr",
     "output_type": "stream",
     "text": [
      "C:\\Users\\AADHI\\Anaconda3\\lib\\site-packages\\nltk\\twitter\\__init__.py:20: UserWarning: The twython library has not been installed. Some functionality from the twitter package will not be available.\n",
      "  warnings.warn(\"The twython library has not been installed. \"\n"
     ]
    }
   ],
   "source": [
    "from nltk.corpus import stopwords\n",
    "import textblob\n",
    "stop = stopwords.words('english')\n",
    "from nltk.corpus import opinion_lexicon\n",
    "pos_list=set(opinion_lexicon.positive())\n",
    "neg_list=set(opinion_lexicon.negative())\n",
    "from nltk.tokenize import treebank\n",
    "tokenizer = treebank.TreebankWordTokenizer()\n",
    "from nltk.tokenize import word_tokenize\n",
    "from nltk.tokenize import sent_tokenize\n",
    "from nltk.corpus import sentiwordnet as swn\n",
    "from nltk.sentiment.vader import SentimentIntensityAnalyzer\n",
    "from afinn import Afinn"
   ]
  },
  {
   "cell_type": "markdown",
   "metadata": {
    "colab_type": "text",
    "id": "HwY5iYHpeH-V"
   },
   "source": [
    "# Load Dependencies"
   ]
  },
  {
   "cell_type": "code",
   "execution_count": 3,
   "metadata": {
    "colab": {},
    "colab_type": "code",
    "id": "YRx1nYcwcyIi"
   },
   "outputs": [],
   "source": [
    "import pandas as pd\n",
    "import numpy as np\n",
    "from sklearn.metrics import confusion_matrix, classification_report\n",
    "np.set_printoptions(precision=2, linewidth=80)\n",
    "from tqdm import tqdm\n",
    "tqdm.pandas()\n",
    "import re\n",
    "import contractions\n",
    "from statistics import mode"
   ]
  },
  {
   "cell_type": "code",
   "execution_count": 4,
   "metadata": {},
   "outputs": [],
   "source": [
    "dataset = pd.read_excel(\"Electronics_data.xlsx\")"
   ]
  },
  {
   "cell_type": "code",
   "execution_count": 5,
   "metadata": {},
   "outputs": [
    {
     "data": {
      "text/plain": [
       "(50000, 3)"
      ]
     },
     "execution_count": 5,
     "metadata": {},
     "output_type": "execute_result"
    }
   ],
   "source": [
    "dataset.shape"
   ]
  },
  {
   "cell_type": "code",
   "execution_count": 6,
   "metadata": {},
   "outputs": [],
   "source": [
    "dataset = dataset.loc[:5000,:]"
   ]
  },
  {
   "cell_type": "code",
   "execution_count": 38,
   "metadata": {},
   "outputs": [
    {
     "data": {
      "text/plain": [
       "2    2565\n",
       "1    2436\n",
       "Name: sentiment, dtype: int64"
      ]
     },
     "execution_count": 38,
     "metadata": {},
     "output_type": "execute_result"
    }
   ],
   "source": [
    "dataset['sentiment'].value_counts()"
   ]
  },
  {
   "cell_type": "code",
   "execution_count": 8,
   "metadata": {},
   "outputs": [
    {
     "data": {
      "text/plain": [
       "'My lovely Pat has one of the GREAT voices of her generation. I have listened to this CD for YEARS and I still LOVE IT. When I\\'m in a good mood it makes me feel better. A bad mood just evaporates like sugar in the rain. This CD just oozes LIFE. Vocals are jusat STUUNNING and lyrics just kill. One of life\\'s hidden gems. This is a desert isle CD in my book. Why she never made it big is just beyond me. Everytime I play this, no matter black, white, young, old, male, female EVERYBODY says one thing \"Who was that singing ?\"'"
      ]
     },
     "execution_count": 8,
     "metadata": {},
     "output_type": "execute_result"
    }
   ],
   "source": [
    "dataset.loc[0,'Reviews']"
   ]
  },
  {
   "cell_type": "code",
   "execution_count": 9,
   "metadata": {},
   "outputs": [],
   "source": [
    "def normalize_document(doc):\n",
    "    #Lowercase, remove special characters\\whitespaces\n",
    "    #remove stop words\n",
    "    #expand contractions\n",
    "    words = word_tokenize(doc)\n",
    "    doc = \" \".join([word.lower() for word in words if word not in stop])\n",
    "    doc = re.sub(r'[^a-zA-Z0-9\\s]','',doc,re.I|re.A)\n",
    "    doc = doc.strip()\n",
    "    doc = contractions.fix(doc)\n",
    "    return doc"
   ]
  },
  {
   "cell_type": "code",
   "execution_count": 11,
   "metadata": {},
   "outputs": [],
   "source": [
    "dataset.reset_index(inplace = True)"
   ]
  },
  {
   "cell_type": "code",
   "execution_count": 12,
   "metadata": {},
   "outputs": [
    {
     "name": "stderr",
     "output_type": "stream",
     "text": [
      "C:\\Users\\AADHI\\Anaconda3\\lib\\site-packages\\pandas\\core\\frame.py:3781: SettingWithCopyWarning: \n",
      "A value is trying to be set on a copy of a slice from a DataFrame\n",
      "\n",
      "See the caveats in the documentation: http://pandas.pydata.org/pandas-docs/stable/indexing.html#indexing-view-versus-copy\n",
      "  return super(DataFrame, self).rename(**kwargs)\n"
     ]
    }
   ],
   "source": [
    "#Split the reviews into sentences\n",
    "data = dataset[['Reviews','index']]\n",
    "data.rename(columns = {'index':'INDEX'},inplace = True)"
   ]
  },
  {
   "cell_type": "code",
   "execution_count": 14,
   "metadata": {},
   "outputs": [
    {
     "name": "stderr",
     "output_type": "stream",
     "text": [
      "C:\\Users\\AADHI\\Anaconda3\\lib\\site-packages\\ipykernel_launcher.py:2: SettingWithCopyWarning: \n",
      "A value is trying to be set on a copy of a slice from a DataFrame.\n",
      "Try using .loc[row_indexer,col_indexer] = value instead\n",
      "\n",
      "See the caveats in the documentation: http://pandas.pydata.org/pandas-docs/stable/indexing.html#indexing-view-versus-copy\n",
      "  \n"
     ]
    }
   ],
   "source": [
    "from nltk.tokenize import sent_tokenize \n",
    "data['split'] = data['Reviews'].apply(sent_tokenize)"
   ]
  },
  {
   "cell_type": "code",
   "execution_count": 18,
   "metadata": {},
   "outputs": [
    {
     "data": {
      "text/html": [
       "<div>\n",
       "<style scoped>\n",
       "    .dataframe tbody tr th:only-of-type {\n",
       "        vertical-align: middle;\n",
       "    }\n",
       "\n",
       "    .dataframe tbody tr th {\n",
       "        vertical-align: top;\n",
       "    }\n",
       "\n",
       "    .dataframe thead th {\n",
       "        text-align: right;\n",
       "    }\n",
       "</style>\n",
       "<table border=\"1\" class=\"dataframe\">\n",
       "  <thead>\n",
       "    <tr style=\"text-align: right;\">\n",
       "      <th></th>\n",
       "      <th>Reviews</th>\n",
       "      <th>INDEX</th>\n",
       "      <th>split</th>\n",
       "    </tr>\n",
       "  </thead>\n",
       "  <tbody>\n",
       "    <tr>\n",
       "      <th>0</th>\n",
       "      <td>My lovely Pat has one of the GREAT voices of h...</td>\n",
       "      <td>0</td>\n",
       "      <td>[My lovely Pat has one of the GREAT voices of ...</td>\n",
       "    </tr>\n",
       "    <tr>\n",
       "      <th>1</th>\n",
       "      <td>Despite the fact that I have only played a sma...</td>\n",
       "      <td>1</td>\n",
       "      <td>[Despite the fact that I have only played a sm...</td>\n",
       "    </tr>\n",
       "    <tr>\n",
       "      <th>2</th>\n",
       "      <td>I bought this charger in Jul 2003 and it worke...</td>\n",
       "      <td>2</td>\n",
       "      <td>[I bought this charger in Jul 2003 and it work...</td>\n",
       "    </tr>\n",
       "    <tr>\n",
       "      <th>3</th>\n",
       "      <td>Check out Maha Energy's website. Their Powerex...</td>\n",
       "      <td>3</td>\n",
       "      <td>[Check out Maha Energy's website., Their Power...</td>\n",
       "    </tr>\n",
       "    <tr>\n",
       "      <th>4</th>\n",
       "      <td>Reviewed quite a bit of the combo players and ...</td>\n",
       "      <td>4</td>\n",
       "      <td>[Reviewed quite a bit of the combo players and...</td>\n",
       "    </tr>\n",
       "  </tbody>\n",
       "</table>\n",
       "</div>"
      ],
      "text/plain": [
       "                                             Reviews  INDEX  \\\n",
       "0  My lovely Pat has one of the GREAT voices of h...      0   \n",
       "1  Despite the fact that I have only played a sma...      1   \n",
       "2  I bought this charger in Jul 2003 and it worke...      2   \n",
       "3  Check out Maha Energy's website. Their Powerex...      3   \n",
       "4  Reviewed quite a bit of the combo players and ...      4   \n",
       "\n",
       "                                               split  \n",
       "0  [My lovely Pat has one of the GREAT voices of ...  \n",
       "1  [Despite the fact that I have only played a sm...  \n",
       "2  [I bought this charger in Jul 2003 and it work...  \n",
       "3  [Check out Maha Energy's website., Their Power...  \n",
       "4  [Reviewed quite a bit of the combo players and...  "
      ]
     },
     "execution_count": 18,
     "metadata": {},
     "output_type": "execute_result"
    }
   ],
   "source": [
    "data.head()"
   ]
  },
  {
   "cell_type": "code",
   "execution_count": 16,
   "metadata": {},
   "outputs": [
    {
     "data": {
      "text/plain": [
       "['My lovely Pat has one of the GREAT voices of her generation.',\n",
       " 'I have listened to this CD for YEARS and I still LOVE IT.',\n",
       " \"When I'm in a good mood it makes me feel better.\",\n",
       " 'A bad mood just evaporates like sugar in the rain.',\n",
       " 'This CD just oozes LIFE.',\n",
       " 'Vocals are jusat STUUNNING and lyrics just kill.',\n",
       " \"One of life's hidden gems.\",\n",
       " 'This is a desert isle CD in my book.',\n",
       " 'Why she never made it big is just beyond me.',\n",
       " 'Everytime I play this, no matter black, white, young, old, male, female EVERYBODY says one thing \"Who was that singing ?\"']"
      ]
     },
     "execution_count": 16,
     "metadata": {},
     "output_type": "execute_result"
    }
   ],
   "source": [
    "data['split'][0]"
   ]
  },
  {
   "cell_type": "code",
   "execution_count": 25,
   "metadata": {},
   "outputs": [],
   "source": [
    "data_split = data.set_index('INDEX').split.apply(pd.Series).stack().reset_index(level=0).rename(columns={0:'Reviews'})\n",
    "data_split.reset_index(level =0,inplace = True)\n",
    "data_split.rename(columns = {'INDEX':'review_no','index':'sentence'},inplace = True)"
   ]
  },
  {
   "cell_type": "code",
   "execution_count": 28,
   "metadata": {},
   "outputs": [
    {
     "data": {
      "text/html": [
       "<div>\n",
       "<style scoped>\n",
       "    .dataframe tbody tr th:only-of-type {\n",
       "        vertical-align: middle;\n",
       "    }\n",
       "\n",
       "    .dataframe tbody tr th {\n",
       "        vertical-align: top;\n",
       "    }\n",
       "\n",
       "    .dataframe thead th {\n",
       "        text-align: right;\n",
       "    }\n",
       "</style>\n",
       "<table border=\"1\" class=\"dataframe\">\n",
       "  <thead>\n",
       "    <tr style=\"text-align: right;\">\n",
       "      <th></th>\n",
       "      <th>sentence</th>\n",
       "      <th>review_no</th>\n",
       "      <th>Reviews</th>\n",
       "    </tr>\n",
       "  </thead>\n",
       "  <tbody>\n",
       "    <tr>\n",
       "      <th>0</th>\n",
       "      <td>0</td>\n",
       "      <td>0</td>\n",
       "      <td>My lovely Pat has one of the GREAT voices of h...</td>\n",
       "    </tr>\n",
       "    <tr>\n",
       "      <th>1</th>\n",
       "      <td>1</td>\n",
       "      <td>0</td>\n",
       "      <td>I have listened to this CD for YEARS and I sti...</td>\n",
       "    </tr>\n",
       "    <tr>\n",
       "      <th>2</th>\n",
       "      <td>2</td>\n",
       "      <td>0</td>\n",
       "      <td>When I'm in a good mood it makes me feel better.</td>\n",
       "    </tr>\n",
       "    <tr>\n",
       "      <th>3</th>\n",
       "      <td>3</td>\n",
       "      <td>0</td>\n",
       "      <td>A bad mood just evaporates like sugar in the r...</td>\n",
       "    </tr>\n",
       "    <tr>\n",
       "      <th>4</th>\n",
       "      <td>4</td>\n",
       "      <td>0</td>\n",
       "      <td>This CD just oozes LIFE.</td>\n",
       "    </tr>\n",
       "    <tr>\n",
       "      <th>5</th>\n",
       "      <td>5</td>\n",
       "      <td>0</td>\n",
       "      <td>Vocals are jusat STUUNNING and lyrics just kill.</td>\n",
       "    </tr>\n",
       "    <tr>\n",
       "      <th>6</th>\n",
       "      <td>6</td>\n",
       "      <td>0</td>\n",
       "      <td>One of life's hidden gems.</td>\n",
       "    </tr>\n",
       "    <tr>\n",
       "      <th>7</th>\n",
       "      <td>7</td>\n",
       "      <td>0</td>\n",
       "      <td>This is a desert isle CD in my book.</td>\n",
       "    </tr>\n",
       "    <tr>\n",
       "      <th>8</th>\n",
       "      <td>8</td>\n",
       "      <td>0</td>\n",
       "      <td>Why she never made it big is just beyond me.</td>\n",
       "    </tr>\n",
       "    <tr>\n",
       "      <th>9</th>\n",
       "      <td>9</td>\n",
       "      <td>0</td>\n",
       "      <td>Everytime I play this, no matter black, white,...</td>\n",
       "    </tr>\n",
       "    <tr>\n",
       "      <th>10</th>\n",
       "      <td>0</td>\n",
       "      <td>1</td>\n",
       "      <td>Despite the fact that I have only played a sma...</td>\n",
       "    </tr>\n",
       "    <tr>\n",
       "      <th>11</th>\n",
       "      <td>1</td>\n",
       "      <td>1</td>\n",
       "      <td>There is an incredible mix of fun, epic, and e...</td>\n",
       "    </tr>\n",
       "    <tr>\n",
       "      <th>12</th>\n",
       "      <td>2</td>\n",
       "      <td>1</td>\n",
       "      <td>Those sad and beautiful tracks I especially li...</td>\n",
       "    </tr>\n",
       "    <tr>\n",
       "      <th>13</th>\n",
       "      <td>3</td>\n",
       "      <td>1</td>\n",
       "      <td>I must admit that one of the songs (Life-A Dis...</td>\n",
       "    </tr>\n",
       "    <tr>\n",
       "      <th>14</th>\n",
       "      <td>4</td>\n",
       "      <td>1</td>\n",
       "      <td>But even if those weren't included I would sti...</td>\n",
       "    </tr>\n",
       "  </tbody>\n",
       "</table>\n",
       "</div>"
      ],
      "text/plain": [
       "    sentence  review_no                                            Reviews\n",
       "0          0          0  My lovely Pat has one of the GREAT voices of h...\n",
       "1          1          0  I have listened to this CD for YEARS and I sti...\n",
       "2          2          0   When I'm in a good mood it makes me feel better.\n",
       "3          3          0  A bad mood just evaporates like sugar in the r...\n",
       "4          4          0                           This CD just oozes LIFE.\n",
       "5          5          0   Vocals are jusat STUUNNING and lyrics just kill.\n",
       "6          6          0                         One of life's hidden gems.\n",
       "7          7          0               This is a desert isle CD in my book.\n",
       "8          8          0       Why she never made it big is just beyond me.\n",
       "9          9          0  Everytime I play this, no matter black, white,...\n",
       "10         0          1  Despite the fact that I have only played a sma...\n",
       "11         1          1  There is an incredible mix of fun, epic, and e...\n",
       "12         2          1  Those sad and beautiful tracks I especially li...\n",
       "13         3          1  I must admit that one of the songs (Life-A Dis...\n",
       "14         4          1  But even if those weren't included I would sti..."
      ]
     },
     "execution_count": 28,
     "metadata": {},
     "output_type": "execute_result"
    }
   ],
   "source": [
    "data_split.head(15)"
   ]
  },
  {
   "cell_type": "code",
   "execution_count": 34,
   "metadata": {},
   "outputs": [],
   "source": [
    "data_split['Reviews'] = data_split['Reviews'].apply(normalize_document)"
   ]
  },
  {
   "cell_type": "code",
   "execution_count": 35,
   "metadata": {},
   "outputs": [
    {
     "data": {
      "text/html": [
       "<div>\n",
       "<style scoped>\n",
       "    .dataframe tbody tr th:only-of-type {\n",
       "        vertical-align: middle;\n",
       "    }\n",
       "\n",
       "    .dataframe tbody tr th {\n",
       "        vertical-align: top;\n",
       "    }\n",
       "\n",
       "    .dataframe thead th {\n",
       "        text-align: right;\n",
       "    }\n",
       "</style>\n",
       "<table border=\"1\" class=\"dataframe\">\n",
       "  <thead>\n",
       "    <tr style=\"text-align: right;\">\n",
       "      <th></th>\n",
       "      <th>sentence</th>\n",
       "      <th>review_no</th>\n",
       "      <th>Reviews</th>\n",
       "    </tr>\n",
       "  </thead>\n",
       "  <tbody>\n",
       "    <tr>\n",
       "      <th>0</th>\n",
       "      <td>0</td>\n",
       "      <td>0</td>\n",
       "      <td>my lovely pat one great voices generation</td>\n",
       "    </tr>\n",
       "    <tr>\n",
       "      <th>1</th>\n",
       "      <td>1</td>\n",
       "      <td>0</td>\n",
       "      <td>i listened cd years i still love it</td>\n",
       "    </tr>\n",
       "    <tr>\n",
       "      <th>2</th>\n",
       "      <td>2</td>\n",
       "      <td>0</td>\n",
       "      <td>when i m good mood makes feel better</td>\n",
       "    </tr>\n",
       "    <tr>\n",
       "      <th>3</th>\n",
       "      <td>3</td>\n",
       "      <td>0</td>\n",
       "      <td>a bad mood evaporates like sugar rain</td>\n",
       "    </tr>\n",
       "    <tr>\n",
       "      <th>4</th>\n",
       "      <td>4</td>\n",
       "      <td>0</td>\n",
       "      <td>this cd oozes life</td>\n",
       "    </tr>\n",
       "  </tbody>\n",
       "</table>\n",
       "</div>"
      ],
      "text/plain": [
       "   sentence  review_no                                    Reviews\n",
       "0         0          0  my lovely pat one great voices generation\n",
       "1         1          0        i listened cd years i still love it\n",
       "2         2          0       when i m good mood makes feel better\n",
       "3         3          0      a bad mood evaporates like sugar rain\n",
       "4         4          0                         this cd oozes life"
      ]
     },
     "execution_count": 35,
     "metadata": {},
     "output_type": "execute_result"
    }
   ],
   "source": [
    "data_split.head()"
   ]
  },
  {
   "cell_type": "markdown",
   "metadata": {
    "colab_type": "text",
    "id": "QXZHK_ehf-pk"
   },
   "source": [
    "# Sentiment Analysis with TextBlob\n",
    "\n",
    "The lexicon that TextBlob uses is the\n",
    "same one as pattern and is available in their source code on GitHub (https://github.com/sloria/TextBlob/blob/dev/textblob/en/en-sentiment.xml). Some sample\n",
    "examples are shown from the lexicon as follows.\n",
    "\n",
    "```\n",
    "<word form=\"abhorrent\" wordnet_id=\"a-1625063\" pos=\"JJ\" sense=\"offensive\n",
    "to the mind\" polarity=\"-0.7\" subjectivity=\"0.8\" intensity=\"1.0\"\n",
    "reliability=\"0.9\" />\n",
    "<word form=\"able\" cornetto_synset_id=\"n_a-534450\" wordnet_id=\"a-01017439\"\n",
    "pos=\"JJ\" sense=\"having a strong healthy body\" polarity=\"0.5\"\n",
    "subjectivity=\"1.0\" intensity=\"1.0\" confidence=\"0.9\" />\n",
    "```\n",
    "\n",
    "Typically, specific adjectives have a polarity score (negative/positive, -1.0 to +1.0)\n",
    "and a subjectivity score (objective/subjective, +0.0 to +1.0). \n",
    "\n",
    "The reliability score specifies\n",
    "if an adjective was hand-tagged (1.0) or inferred (0.7). Words are tagged per sense, e.g.,\n",
    "ridiculous (pitiful) = negative, ridiculous (humorous) = positive. \n",
    "\n",
    "The Cornetto id (lexical\n",
    "unit id) and Cornetto synset id refer to the Cornetto lexical database for Dutch. The\n",
    "WordNet id refers to the WordNet3 lexical database for English. The part-of-speech\n",
    "tags (POS) use the Penn Treebank convention. Let’s look at how we can use TextBlob for\n",
    "sentiment analysis."
   ]
  },
  {
   "cell_type": "code",
   "execution_count": 37,
   "metadata": {},
   "outputs": [
    {
     "data": {
      "text/plain": [
       "Sentiment(polarity=-0.575, subjectivity=0.75)"
      ]
     },
     "execution_count": 37,
     "metadata": {},
     "output_type": "execute_result"
    }
   ],
   "source": [
    "import textblob\n",
    "textblob.TextBlob(\"I hate this film its not good\").sentiment"
   ]
  },
  {
   "cell_type": "code",
   "execution_count": 39,
   "metadata": {},
   "outputs": [],
   "source": [
    "def convert(data):\n",
    "    if data == 2:\n",
    "        return 'positive'\n",
    "    if data == 1:\n",
    "        return 'negative'\n",
    "dataset['sentiment'] = dataset['sentiment'].apply(convert)"
   ]
  },
  {
   "cell_type": "code",
   "execution_count": 40,
   "metadata": {},
   "outputs": [
    {
     "data": {
      "text/plain": [
       "positive    2565\n",
       "negative    2436\n",
       "Name: sentiment, dtype: int64"
      ]
     },
     "execution_count": 40,
     "metadata": {},
     "output_type": "execute_result"
    }
   ],
   "source": [
    "dataset['sentiment'].value_counts()"
   ]
  },
  {
   "cell_type": "code",
   "execution_count": 41,
   "metadata": {},
   "outputs": [],
   "source": [
    "reviews = np.array(dataset['Reviews'])\n",
    "sentiments = np.array(dataset['sentiment'])\n",
    "sample = [353,699,900]"
   ]
  },
  {
   "cell_type": "code",
   "execution_count": 45,
   "metadata": {},
   "outputs": [
    {
     "name": "stdout",
     "output_type": "stream",
     "text": [
      "REVIEW: watched this one and the previous one several times. Like this movie lots and so did the kids! thanks so much\n",
      "SENTIMENT: positive\n",
      "Predicted Sentiment polarity: 0.05833333333333334\n",
      "------------------------------------------------------------\n",
      "REVIEW: Typical ERB Mars series, which I find light reading. Not too much depth or thought provoking, but nice escape from everyday.\n",
      "SENTIMENT: positive\n",
      "Predicted Sentiment polarity: 0.16666666666666666\n",
      "------------------------------------------------------------\n",
      "REVIEW: This overdone remake of the brilliant 1963 classic is sorely disappointing. If it had been released as an original movie with an original title, it would have worked. The special effects (though good) were too much for this movie to bare.\n",
      "SENTIMENT: negative\n",
      "Predicted Sentiment polarity: 0.2804232804232804\n",
      "------------------------------------------------------------\n"
     ]
    }
   ],
   "source": [
    "for review, sentiment in zip(reviews[sample],sentiments[sample]):\n",
    "    print(\"REVIEW:\",review)\n",
    "    print(\"SENTIMENT:\",sentiment)\n",
    "    print('Predicted Sentiment polarity:',textblob.TextBlob(review).sentiment.polarity)\n",
    "    print('-'*60)"
   ]
  },
  {
   "cell_type": "code",
   "execution_count": 46,
   "metadata": {},
   "outputs": [],
   "source": [
    "sentiment_polarity = [textblob.TextBlob(review).sentiment.polarity for review in reviews]\n",
    "predicted_sentiments = ['positive' if score >= 0.1 else 'negative' for score in sentiment_polarity]"
   ]
  },
  {
   "cell_type": "code",
   "execution_count": 47,
   "metadata": {},
   "outputs": [
    {
     "name": "stdout",
     "output_type": "stream",
     "text": [
      "              precision    recall  f1-score   support\n",
      "\n",
      "    negative       0.76      0.61      0.68      2436\n",
      "    positive       0.69      0.82      0.75      2565\n",
      "\n",
      "   micro avg       0.72      0.72      0.72      5001\n",
      "   macro avg       0.73      0.71      0.71      5001\n",
      "weighted avg       0.72      0.72      0.71      5001\n",
      "\n"
     ]
    },
    {
     "data": {
      "text/html": [
       "<div>\n",
       "<style scoped>\n",
       "    .dataframe tbody tr th:only-of-type {\n",
       "        vertical-align: middle;\n",
       "    }\n",
       "\n",
       "    .dataframe tbody tr th {\n",
       "        vertical-align: top;\n",
       "    }\n",
       "\n",
       "    .dataframe thead th {\n",
       "        text-align: right;\n",
       "    }\n",
       "</style>\n",
       "<table border=\"1\" class=\"dataframe\">\n",
       "  <thead>\n",
       "    <tr style=\"text-align: right;\">\n",
       "      <th></th>\n",
       "      <th>negative</th>\n",
       "      <th>positive</th>\n",
       "    </tr>\n",
       "  </thead>\n",
       "  <tbody>\n",
       "    <tr>\n",
       "      <th>negative</th>\n",
       "      <td>1476</td>\n",
       "      <td>960</td>\n",
       "    </tr>\n",
       "    <tr>\n",
       "      <th>positive</th>\n",
       "      <td>457</td>\n",
       "      <td>2108</td>\n",
       "    </tr>\n",
       "  </tbody>\n",
       "</table>\n",
       "</div>"
      ],
      "text/plain": [
       "          negative  positive\n",
       "negative      1476       960\n",
       "positive       457      2108"
      ]
     },
     "execution_count": 47,
     "metadata": {},
     "output_type": "execute_result"
    }
   ],
   "source": [
    "## Evaluation\n",
    "labels = ['negative','positive']\n",
    "print(classification_report(sentiments,predicted_sentiments))\n",
    "pd.DataFrame(confusion_matrix(sentiments, predicted_sentiments), index = labels,columns = labels)"
   ]
  },
  {
   "cell_type": "markdown",
   "metadata": {
    "colab_type": "text",
    "id": "SvxKg_H8gCfr"
   },
   "source": [
    "# Sentiment Analysis with AFINN\n",
    "\n",
    "The AFINN lexicon is perhaps one of the simplest and most popular lexicons and can be\n",
    "used extensively for sentiment analysis. Developed and curated by Finn Årup Nielsen,\n",
    "you can find more details on this lexicon in the paper by Finn Årup Nielsen, entitled “A\n",
    "New ANEW: Evaluation of a Word List for Sentiment Analysis in Microblogs,” from the\n",
    "proceedings of the ESWC2011 workshop. \n",
    "\n",
    "The current version of the lexicon is AFINN-en-165.\n",
    "txt and it contains over 3,300 words with a polarity score associated with each word.\n",
    "You can find this lexicon at the author’s official GitHub repository along with\n",
    "previous versions of this lexicon including AFINN-111 at https://github.com/\n",
    "fnielsen/afinn/blob/master/afinn/data/. \n",
    "\n",
    "The author has also created a nice wrapper\n",
    "library on top of this in Python called afinn, which we will be using for our analysis\n",
    "needs"
   ]
  },
  {
   "attachments": {
    "image.png": {
     "image/png": "[encoded data removed]"
    }
   },
   "cell_type": "markdown",
   "metadata": {},
   "source": [
    "Screenshot 2020-03-30 at 12.32.04 PM![image.png](attachment:image.png)\n",
    "\n",
    "https://github.com/fnielsen/afinn/blob/master/afinn/data/AFINN-111.txt#L1474"
   ]
  },
  {
   "cell_type": "code",
   "execution_count": 48,
   "metadata": {},
   "outputs": [],
   "source": [
    "afn = Afinn(emoticons = True)"
   ]
  },
  {
   "cell_type": "code",
   "execution_count": 49,
   "metadata": {},
   "outputs": [
    {
     "data": {
      "text/plain": [
       "3.0"
      ]
     },
     "execution_count": 49,
     "metadata": {},
     "output_type": "execute_result"
    }
   ],
   "source": [
    "afn.score(\"I love it\")"
   ]
  },
  {
   "cell_type": "code",
   "execution_count": 50,
   "metadata": {},
   "outputs": [
    {
     "name": "stdout",
     "output_type": "stream",
     "text": [
      "REVIEW: watched this one and the previous one several times. Like this movie lots and so did the kids! thanks so much\n",
      "SENTIMENT: positive\n",
      "Predicted Sentiment polarity: 4.0\n",
      "------------------------------------------------------------\n",
      "REVIEW: Typical ERB Mars series, which I find light reading. Not too much depth or thought provoking, but nice escape from everyday.\n",
      "SENTIMENT: positive\n",
      "Predicted Sentiment polarity: 1.0\n",
      "------------------------------------------------------------\n",
      "REVIEW: This overdone remake of the brilliant 1963 classic is sorely disappointing. If it had been released as an original movie with an original title, it would have worked. The special effects (though good) were too much for this movie to bare.\n",
      "SENTIMENT: negative\n",
      "Predicted Sentiment polarity: 5.0\n",
      "------------------------------------------------------------\n"
     ]
    }
   ],
   "source": [
    "for review, sentiment in zip(reviews[sample],sentiments[sample]):\n",
    "    print(\"REVIEW:\",review)\n",
    "    print(\"SENTIMENT:\",sentiment)\n",
    "    print('Predicted Sentiment polarity:',afn.score(review))\n",
    "    print('-'*60)"
   ]
  },
  {
   "cell_type": "code",
   "execution_count": 59,
   "metadata": {},
   "outputs": [],
   "source": [
    "sentiment_polarity = [textblob.TextBlob(review).sentiment.polarity for review in reviews]\n",
    "predicted_sentiments = ['positive' if score >= 0.2 else 'negative' for score in sentiment_polarity]"
   ]
  },
  {
   "cell_type": "code",
   "execution_count": 60,
   "metadata": {},
   "outputs": [
    {
     "name": "stdout",
     "output_type": "stream",
     "text": [
      "              precision    recall  f1-score   support\n",
      "\n",
      "    negative       0.67      0.81      0.73      2436\n",
      "    positive       0.77      0.62      0.68      2565\n",
      "\n",
      "   micro avg       0.71      0.71      0.71      5001\n",
      "   macro avg       0.72      0.71      0.71      5001\n",
      "weighted avg       0.72      0.71      0.71      5001\n",
      "\n"
     ]
    },
    {
     "data": {
      "text/html": [
       "<div>\n",
       "<style scoped>\n",
       "    .dataframe tbody tr th:only-of-type {\n",
       "        vertical-align: middle;\n",
       "    }\n",
       "\n",
       "    .dataframe tbody tr th {\n",
       "        vertical-align: top;\n",
       "    }\n",
       "\n",
       "    .dataframe thead th {\n",
       "        text-align: right;\n",
       "    }\n",
       "</style>\n",
       "<table border=\"1\" class=\"dataframe\">\n",
       "  <thead>\n",
       "    <tr style=\"text-align: right;\">\n",
       "      <th></th>\n",
       "      <th>negative</th>\n",
       "      <th>positive</th>\n",
       "    </tr>\n",
       "  </thead>\n",
       "  <tbody>\n",
       "    <tr>\n",
       "      <th>negative</th>\n",
       "      <td>1966</td>\n",
       "      <td>470</td>\n",
       "    </tr>\n",
       "    <tr>\n",
       "      <th>positive</th>\n",
       "      <td>985</td>\n",
       "      <td>1580</td>\n",
       "    </tr>\n",
       "  </tbody>\n",
       "</table>\n",
       "</div>"
      ],
      "text/plain": [
       "          negative  positive\n",
       "negative      1966       470\n",
       "positive       985      1580"
      ]
     },
     "execution_count": 60,
     "metadata": {},
     "output_type": "execute_result"
    }
   ],
   "source": [
    "## Evaluation\n",
    "labels = ['negative','positive']\n",
    "print(classification_report(sentiments,predicted_sentiments))\n",
    "pd.DataFrame(confusion_matrix(sentiments, predicted_sentiments), index = labels,columns = labels)"
   ]
  },
  {
   "cell_type": "code",
   "execution_count": null,
   "metadata": {},
   "outputs": [],
   "source": []
  }
 ],
 "metadata": {
  "colab": {
   "name": "Sentiment Analysis - Unsupervised Lexical Models.ipynb",
   "provenance": [],
   "version": "0.3.2"
  },
  "kernelspec": {
   "display_name": "Python 3",
   "language": "python",
   "name": "python3"
  },
  "language_info": {
   "codemirror_mode": {
    "name": "ipython",
    "version": 3
   },
   "file_extension": ".py",
   "mimetype": "text/x-python",
   "name": "python",
   "nbconvert_exporter": "python",
   "pygments_lexer": "ipython3",
   "version": "3.7.0"
  }
 },
 "nbformat": 4,
 "nbformat_minor": 1
}
